ggplot(data = datos, mapping = aes (x = horas_estudio, y = puntaje)) +
  geom_point(color = "darkorange", size = 2)