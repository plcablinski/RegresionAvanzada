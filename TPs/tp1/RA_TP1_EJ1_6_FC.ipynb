{
 "cells": [
  {
   "attachments": {},
   "cell_type": "markdown",
   "metadata": {},
   "source": [
    "## Ejercicio 1.6"
   ]
  },
  {
   "attachments": {},
   "cell_type": "markdown",
   "metadata": {},
   "source": [
    "En la base estudio.xlsx se encuentran registradas las horas de estudios referidas por un conjunto de estudiantes y su calificación en la evaluación final."
   ]
  },
  {
   "cell_type": "code",
   "execution_count": 1,
   "metadata": {
    "vscode": {
     "languageId": "r"
    }
   },
   "outputs": [
    {
     "name": "stderr",
     "output_type": "stream",
     "text": [
      "\n",
      "Attaching package: 'dplyr'\n",
      "\n",
      "\n",
      "The following objects are masked from 'package:stats':\n",
      "\n",
      "    filter, lag\n",
      "\n",
      "\n",
      "The following objects are masked from 'package:base':\n",
      "\n",
      "    intersect, setdiff, setequal, union\n",
      "\n",
      "\n",
      "corrplot 0.92 loaded\n",
      "\n",
      "Loading required package: zoo\n",
      "\n",
      "\n",
      "Attaching package: 'zoo'\n",
      "\n",
      "\n",
      "The following objects are masked from 'package:base':\n",
      "\n",
      "    as.Date, as.Date.numeric\n",
      "\n",
      "\n",
      "Loading required package: carData\n",
      "\n",
      "\n",
      "Attaching package: 'car'\n",
      "\n",
      "\n",
      "The following object is masked from 'package:dplyr':\n",
      "\n",
      "    recode\n",
      "\n",
      "\n",
      "\n",
      "Attaching package: 'MASS'\n",
      "\n",
      "\n",
      "The following object is masked from 'package:dplyr':\n",
      "\n",
      "    select\n",
      "\n",
      "\n"
     ]
    }
   ],
   "source": [
    "library(readxl)\n",
    "library(ggplot2)\n",
    "library(dplyr)\n",
    "library(MVN)\n",
    "library(corrplot)\n",
    "library(aod)\n",
    "library(lmtest)\n",
    "library(car)\n",
    "library(MASS)"
   ]
  },
  {
   "cell_type": "code",
   "execution_count": 2,
   "metadata": {
    "vscode": {
     "languageId": "r"
    }
   },
   "outputs": [],
   "source": [
    "PARAM <- list()\n",
    "PARAM$HOME <- \"C://Austral/mcd-reg-adv/datasets/\"\n",
    "PARAM$FILE <- \"estudio.csv\"\n",
    "file_name <- paste0(PARAM$HOME,PARAM$FILE)"
   ]
  },
  {
   "cell_type": "code",
   "execution_count": 3,
   "metadata": {
    "vscode": {
     "languageId": "r"
    }
   },
   "outputs": [
    {
     "data": {
      "text/html": [
       "<table class=\"dataframe\">\n",
       "<caption>A data.frame: 6 × 2</caption>\n",
       "<thead>\n",
       "\t<tr><th></th><th scope=col>horas_estudio</th><th scope=col>puntaje</th></tr>\n",
       "\t<tr><th></th><th scope=col>&lt;dbl&gt;</th><th scope=col>&lt;int&gt;</th></tr>\n",
       "</thead>\n",
       "<tbody>\n",
       "\t<tr><th scope=row>1</th><td>1.0</td><td>28</td></tr>\n",
       "\t<tr><th scope=row>2</th><td>1.0</td><td>38</td></tr>\n",
       "\t<tr><th scope=row>3</th><td>1.5</td><td>45</td></tr>\n",
       "\t<tr><th scope=row>4</th><td>1.5</td><td>44</td></tr>\n",
       "\t<tr><th scope=row>5</th><td>2.0</td><td>52</td></tr>\n",
       "\t<tr><th scope=row>6</th><td>2.0</td><td>50</td></tr>\n",
       "</tbody>\n",
       "</table>\n"
      ],
      "text/latex": [
       "A data.frame: 6 × 2\n",
       "\\begin{tabular}{r|ll}\n",
       "  & horas\\_estudio & puntaje\\\\\n",
       "  & <dbl> & <int>\\\\\n",
       "\\hline\n",
       "\t1 & 1.0 & 28\\\\\n",
       "\t2 & 1.0 & 38\\\\\n",
       "\t3 & 1.5 & 45\\\\\n",
       "\t4 & 1.5 & 44\\\\\n",
       "\t5 & 2.0 & 52\\\\\n",
       "\t6 & 2.0 & 50\\\\\n",
       "\\end{tabular}\n"
      ],
      "text/markdown": [
       "\n",
       "A data.frame: 6 × 2\n",
       "\n",
       "| <!--/--> | horas_estudio &lt;dbl&gt; | puntaje &lt;int&gt; |\n",
       "|---|---|---|\n",
       "| 1 | 1.0 | 28 |\n",
       "| 2 | 1.0 | 38 |\n",
       "| 3 | 1.5 | 45 |\n",
       "| 4 | 1.5 | 44 |\n",
       "| 5 | 2.0 | 52 |\n",
       "| 6 | 2.0 | 50 |\n",
       "\n"
      ],
      "text/plain": [
       "  horas_estudio puntaje\n",
       "1 1.0           28     \n",
       "2 1.0           38     \n",
       "3 1.5           45     \n",
       "4 1.5           44     \n",
       "5 2.0           52     \n",
       "6 2.0           50     "
      ]
     },
     "metadata": {},
     "output_type": "display_data"
    }
   ],
   "source": [
    "estudio <- read.csv(file_name, sep = \";\")\n",
    "head(estudio)"
   ]
  },
  {
   "cell_type": "code",
   "execution_count": 4,
   "metadata": {
    "vscode": {
     "languageId": "r"
    }
   },
   "outputs": [
    {
     "data": {
      "image/png": "[encoded data removed]",
      "text/plain": [
       "plot without title"
      ]
     },
     "metadata": {
      "image/png": {
       "height": 420,
       "width": 420
      }
     },
     "output_type": "display_data"
    }
   ],
   "source": [
    "plot( estudio$horas_estudio, estudio$puntaje )"
   ]
  },
  {
   "attachments": {},
   "cell_type": "markdown",
   "metadata": {},
   "source": [
    "### a) Ajuste un modelo de regresión simple para estimar la nota final en función de las horas dedicadas al estudio."
   ]
  },
  {
   "cell_type": "code",
   "execution_count": 5,
   "metadata": {
    "vscode": {
     "languageId": "r"
    }
   },
   "outputs": [
    {
     "data": {
      "text/plain": [
       "\n",
       "Call:\n",
       "lm(formula = puntaje ~ horas_estudio, data = estudio)\n",
       "\n",
       "Residuals:\n",
       "    Min      1Q  Median      3Q     Max \n",
       "-42.506  -4.395   1.623   8.204  18.491 \n",
       "\n",
       "Coefficients:\n",
       "              Estimate Std. Error t value Pr(>|t|)    \n",
       "(Intercept)    39.8305     4.9007   8.127 1.43e-09 ***\n",
       "horas_estudio   5.7094     0.9288   6.147 4.94e-07 ***\n",
       "---\n",
       "Signif. codes:  0 '***' 0.001 '**' 0.01 '*' 0.05 '.' 0.1 ' ' 1\n",
       "\n",
       "Residual standard error: 12.24 on 35 degrees of freedom\n",
       "Multiple R-squared:  0.5192,\tAdjusted R-squared:  0.5054 \n",
       "F-statistic: 37.79 on 1 and 35 DF,  p-value: 4.943e-07\n"
      ]
     },
     "metadata": {},
     "output_type": "display_data"
    }
   ],
   "source": [
    "mod_hs_est <- lm ( puntaje ~ horas_estudio, data = estudio )\n",
    "summary( mod_hs_est )"
   ]
  },
  {
   "attachments": {},
   "cell_type": "markdown",
   "metadata": {},
   "source": [
    "### b) Estudie el cumplimiento de los supuestos del modelo, gráfica y analíticamente"
   ]
  },
  {
   "cell_type": "code",
   "execution_count": 6,
   "metadata": {
    "vscode": {
     "languageId": "r"
    }
   },
   "outputs": [],
   "source": [
    "IC_mod_hs_est <- predict( mod_hs_est, \n",
    "    interval = \"confidence\", \n",
    "    level = 0.95 )\n",
    "\n",
    "IP_mod_hs_est <- predict( mod_hs_est, \n",
    "    newdata =  data.frame( horas_estudio = estudio$horas_estudio ),\n",
    "    interval = \"prediction\", \n",
    "    level = 0.95 )\n",
    "\n",
    "datos <- data.frame ( horas_estudio = estudio$horas_estudio, puntaje = estudio$puntaje, IP_mod_hs_est )"
   ]
  },
  {
   "cell_type": "code",
   "execution_count": 7,
   "metadata": {
    "vscode": {
     "languageId": "r"
    }
   },
   "outputs": [
    {
     "name": "stderr",
     "output_type": "stream",
     "text": [
      "\u001b[1m\u001b[22m`geom_smooth()` using formula = 'y ~ x'\n"
     ]
    },
    {
     "data": {
      "image/png": "[encoded data removed]",
      "text/plain": [
       "plot without title"
      ]
     },
     "metadata": {
      "image/png": {
       "height": 420,
       "width": 420
      }
     },
     "output_type": "display_data"
    }
   ],
   "source": [
    "ggplot(data = datos, mapping = aes (x = horas_estudio, y = puntaje)) +\n",
    "  geom_point(color = \"darkorange\", size = 2) +\n",
    "  labs(title = \"Diagrama de dispersión con bandas de confianza y predicción - Modelo 1 (OLS Simple)\", x = \"horas_estudio\") + \n",
    "  geom_line(aes(y=lwr), color = \"red\", linetype = \"dashed\") +\n",
    "  geom_line(aes(y=upr), color = \"red\", linetype = \"dashed\") +\n",
    "  geom_smooth(method = \"lm\", se = TRUE, color = \"red\") +\n",
    "  theme_bw() +\n",
    "  theme(plot.title = element_text(hjust = 0.5))"
   ]
  },
  {
   "cell_type": "code",
   "execution_count": 8,
   "metadata": {
    "vscode": {
     "languageId": "r"
    }
   },
   "outputs": [
    {
     "data": {
      "image/png": "[encoded data removed]",
      "text/plain": [
       "Plot with title \"\""
      ]
     },
     "metadata": {
      "image/png": {
       "height": 420,
       "width": 420
      }
     },
     "output_type": "display_data"
    }
   ],
   "source": [
    "par( mfrow = c(2,2) )\n",
    "plot( mod_hs_est )"
   ]
  },
  {
   "cell_type": "code",
   "execution_count": 9,
   "metadata": {
    "vscode": {
     "languageId": "r"
    }
   },
   "outputs": [
    {
     "data": {
      "text/plain": [
       "\n",
       "\tShapiro-Wilk normality test\n",
       "\n",
       "data:  mod_hs_est$residuals\n",
       "W = 0.92105, p-value = 0.01196\n"
      ]
     },
     "metadata": {},
     "output_type": "display_data"
    }
   ],
   "source": [
    "shapiro.test( mod_hs_est$residuals )"
   ]
  },
  {
   "attachments": {},
   "cell_type": "markdown",
   "metadata": {},
   "source": [
    "Rechazo normalidad"
   ]
  },
  {
   "cell_type": "code",
   "execution_count": 10,
   "metadata": {
    "vscode": {
     "languageId": "r"
    }
   },
   "outputs": [
    {
     "data": {
      "text/plain": [
       "\n",
       "\tstudentized Breusch-Pagan test\n",
       "\n",
       "data:  mod_hs_est\n",
       "BP = 4.781, df = 1, p-value = 0.02877\n"
      ]
     },
     "metadata": {},
     "output_type": "display_data"
    }
   ],
   "source": [
    "bptest( mod_hs_est )"
   ]
  },
  {
   "attachments": {},
   "cell_type": "markdown",
   "metadata": {},
   "source": [
    "Rechazamos H0 de homocedasticidad"
   ]
  },
  {
   "cell_type": "code",
   "execution_count": 11,
   "metadata": {
    "vscode": {
     "languageId": "r"
    }
   },
   "outputs": [
    {
     "data": {
      "text/plain": [
       " lag Autocorrelation D-W Statistic p-value\n",
       "   1       0.0446036      1.826352   0.484\n",
       " Alternative hypothesis: rho != 0"
      ]
     },
     "metadata": {},
     "output_type": "display_data"
    }
   ],
   "source": [
    "dwt( mod_hs_est )"
   ]
  },
  {
   "attachments": {},
   "cell_type": "markdown",
   "metadata": {},
   "source": [
    "No rechazamos H0 de no autocorrelación"
   ]
  },
  {
   "attachments": {},
   "cell_type": "markdown",
   "metadata": {},
   "source": [
    "### c) Ajuste un modelo de mínimos cuadrados ponderados definiendo los pesos de tal manera que las observaciones con menor varianza tengan mas peso."
   ]
  },
  {
   "cell_type": "code",
   "execution_count": 12,
   "metadata": {
    "vscode": {
     "languageId": "r"
    }
   },
   "outputs": [
    {
     "data": {
      "text/plain": [
       "\n",
       "Call:\n",
       "lm(formula = puntaje ~ horas_estudio, data = estudio, weights = W)\n",
       "\n",
       "Weighted Residuals:\n",
       "    Min      1Q  Median      3Q     Max \n",
       "-1.5138 -1.0195  0.8341  0.9563  0.9914 \n",
       "\n",
       "Coefficients:\n",
       "              Estimate Std. Error t value Pr(>|t|)    \n",
       "(Intercept)    39.7497     0.7773   51.14   <2e-16 ***\n",
       "horas_estudio   5.7794     0.1853   31.18   <2e-16 ***\n",
       "---\n",
       "Signif. codes:  0 '***' 0.001 '**' 0.01 '*' 0.05 '.' 0.1 ' ' 1\n",
       "\n",
       "Residual standard error: 1.018 on 35 degrees of freedom\n",
       "Multiple R-squared:  0.9653,\tAdjusted R-squared:  0.9643 \n",
       "F-statistic: 972.3 on 1 and 35 DF,  p-value: < 2.2e-16\n"
      ]
     },
     "metadata": {},
     "output_type": "display_data"
    }
   ],
   "source": [
    "# Coincidiendo con Chat GPT, si lo hago por \"fitted.values\", R^2 cae a 0.6455\n",
    "\n",
    "W <- 1 / ( ( mod_hs_est$residuals )^2 )  \n",
    "mod_hs_est_wls <- lm ( puntaje ~ horas_estudio, data = estudio, weights = W )\n",
    "summary( mod_hs_est_wls )"
   ]
  },
  {
   "attachments": {},
   "cell_type": "markdown",
   "metadata": {},
   "source": [
    "### d) Realice el análisis de diagnóstico del segundo modelo ajustado"
   ]
  },
  {
   "cell_type": "code",
   "execution_count": 13,
   "metadata": {
    "vscode": {
     "languageId": "r"
    }
   },
   "outputs": [
    {
     "data": {
      "text/plain": [
       "\n",
       "\tShapiro-Wilk normality test\n",
       "\n",
       "data:  mod_hs_est_wls$residuals\n",
       "W = 0.91736, p-value = 0.009279\n"
      ]
     },
     "metadata": {},
     "output_type": "display_data"
    }
   ],
   "source": [
    "shapiro.test( mod_hs_est_wls$residuals )"
   ]
  },
  {
   "attachments": {},
   "cell_type": "markdown",
   "metadata": {},
   "source": [
    "Rechazamos H0 de normalidad (justito)"
   ]
  },
  {
   "cell_type": "code",
   "execution_count": 14,
   "metadata": {
    "vscode": {
     "languageId": "r"
    }
   },
   "outputs": [
    {
     "data": {
      "text/plain": [
       "\n",
       "\tstudentized Breusch-Pagan test\n",
       "\n",
       "data:  mod_hs_est_wls\n",
       "BP = 0.00058108, df = 1, p-value = 0.9808\n"
      ]
     },
     "metadata": {},
     "output_type": "display_data"
    }
   ],
   "source": [
    "bptest( mod_hs_est_wls )"
   ]
  },
  {
   "attachments": {},
   "cell_type": "markdown",
   "metadata": {},
   "source": [
    "No rechazamos H0 de homocedasticidad"
   ]
  },
  {
   "cell_type": "code",
   "execution_count": 15,
   "metadata": {
    "vscode": {
     "languageId": "r"
    }
   },
   "outputs": [
    {
     "data": {
      "text/plain": [
       " lag Autocorrelation D-W Statistic p-value\n",
       "   1      0.04612406      1.825665   0.462\n",
       " Alternative hypothesis: rho != 0"
      ]
     },
     "metadata": {},
     "output_type": "display_data"
    }
   ],
   "source": [
    "dwt( mod_hs_est_wls )"
   ]
  },
  {
   "attachments": {},
   "cell_type": "markdown",
   "metadata": {},
   "source": [
    "No rechazamos H0 de no autocorrelación"
   ]
  },
  {
   "cell_type": "code",
   "execution_count": 16,
   "metadata": {
    "vscode": {
     "languageId": "r"
    }
   },
   "outputs": [
    {
     "data": {
      "image/png": "[encoded data removed]",
      "text/plain": [
       "Plot with title \"\""
      ]
     },
     "metadata": {
      "image/png": {
       "height": 420,
       "width": 420
      }
     },
     "output_type": "display_data"
    }
   ],
   "source": [
    "par( mfrow = c(2,2) )\n",
    "plot( mod_hs_est_wls )"
   ]
  },
  {
   "cell_type": "code",
   "execution_count": 17,
   "metadata": {
    "vscode": {
     "languageId": "r"
    }
   },
   "outputs": [
    {
     "name": "stderr",
     "output_type": "stream",
     "text": [
      "Warning message in predict.lm(mod_hs_est_wls, newdata = data.frame(horas_estudio = estudio$horas_estudio), :\n",
      "\"Assuming constant prediction variance even though model fit is weighted\n",
      "\"\n"
     ]
    }
   ],
   "source": [
    "IC_mod_hs_est_wls <- predict( mod_hs_est_wls, \n",
    "    interval = \"confidence\", \n",
    "    level = 0.95 )\n",
    "\n",
    "IP_mod_hs_est_wls <- predict( mod_hs_est_wls, \n",
    "    newdata = data.frame( horas_estudio = estudio$horas_estudio ), \n",
    "    interval = \"prediction\", level = 0.95 )"
   ]
  },
  {
   "cell_type": "code",
   "execution_count": 18,
   "metadata": {
    "vscode": {
     "languageId": "r"
    }
   },
   "outputs": [
    {
     "name": "stderr",
     "output_type": "stream",
     "text": [
      "\u001b[1m\u001b[22m`geom_smooth()` using formula = 'y ~ x'\n"
     ]
    },
    {
     "data": {
      "image/png": "[encoded data removed]",
      "text/plain": [
       "plot without title"
      ]
     },
     "metadata": {
      "image/png": {
       "height": 420,
       "width": 420
      }
     },
     "output_type": "display_data"
    }
   ],
   "source": [
    "datos <- data.frame ( horas_estudio = estudio$horas_estudio, puntaje = estudio$puntaje, IP_mod_hs_est_wls )\n",
    "\n",
    "ggplot( data = datos, mapping = aes (x = horas_estudio, y = puntaje) ) +\n",
    "    geom_point( color = \"blue\", size = 2 ) +\n",
    "    labs( title = \"Diagrama de dispersión con bandas de confianza y predicción - Modelo 2 (WLS)\", x = \"horas_estudio\" ) + \n",
    "    geom_line( aes(y=lwr), color = \"black\", linetype = \"dashed\" ) +\n",
    "    geom_line( aes(y=upr), color = \"black\", linetype = \"dashed\" ) +\n",
    "    geom_smooth( method = \"lm\", se = TRUE, color = \"darkblue\" ) +\n",
    "    theme_bw() +\n",
    "    theme( plot.title = element_text(hjust = 0.5) )"
   ]
  },
  {
   "cell_type": "code",
   "execution_count": 19,
   "metadata": {
    "vscode": {
     "languageId": "r"
    }
   },
   "outputs": [
    {
     "data": {
      "image/png": "[encoded data removed]",
      "text/plain": [
       "Plot with title \"Horas de estudio vs puntaje - models fitt\""
      ]
     },
     "metadata": {
      "image/png": {
       "height": 420,
       "width": 420
      }
     },
     "output_type": "display_data"
    }
   ],
   "source": [
    "plot( estudio$horas_estudio, estudio$puntaje, \n",
    "    xlab = \"Horas Estudio\", \n",
    "    ylab = \"Puntaje\", \n",
    "    main = \"Horas de estudio vs puntaje - models fitt\", \n",
    "    pch = 16 )\n",
    "abline( mod_hs_est, col = \"darkorange\", lwd = 2 )\n",
    "abline( mod_hs_est_wls, col = \"blue\", lwd = 2 )"
   ]
  },
  {
   "cell_type": "code",
   "execution_count": 20,
   "metadata": {
    "vscode": {
     "languageId": "r"
    }
   },
   "outputs": [
    {
     "name": "stderr",
     "output_type": "stream",
     "text": [
      "\n",
      "Please cite as: \n",
      "\n",
      "\n",
      " Hlavac, Marek (2022). stargazer: Well-Formatted Regression and Summary Statistics Tables.\n",
      "\n",
      " R package version 5.2.3. https://CRAN.R-project.org/package=stargazer \n",
      "\n",
      "\n"
     ]
    },
    {
     "name": "stdout",
     "output_type": "stream",
     "text": [
      "\n",
      "==========================================================\n",
      "                                  Dependent variable:     \n",
      "                              ----------------------------\n",
      "                                        puntaje           \n",
      "                                   (1)            (2)     \n",
      "----------------------------------------------------------\n",
      "horas_estudio                    5.709***      5.779***   \n",
      "                                 (0.929)        (0.185)   \n",
      "                                                          \n",
      "Constant                        39.831***      39.750***  \n",
      "                                 (4.901)        (0.777)   \n",
      "                                                          \n",
      "----------------------------------------------------------\n",
      "Observations                        37            37      \n",
      "R2                                0.519          0.965    \n",
      "Adjusted R2                       0.505          0.964    \n",
      "Residual Std. Error (df = 35)     12.245         1.018    \n",
      "F Statistic (df = 1; 35)        37.788***     972.345***  \n",
      "==========================================================\n",
      "Note:                          *p<0.1; **p<0.05; ***p<0.01\n"
     ]
    }
   ],
   "source": [
    "library( stargazer )\n",
    "stargazer( mod_hs_est, mod_hs_est_wls, type = \"text\")"
   ]
  },
  {
   "cell_type": "code",
   "execution_count": 21,
   "metadata": {
    "vscode": {
     "languageId": "r"
    }
   },
   "outputs": [
    {
     "data": {
      "image/png": "[encoded data removed]",
      "text/plain": [
       "Plot with title \"Normal Q-Q Plot\""
      ]
     },
     "metadata": {
      "image/png": {
       "height": 420,
       "width": 420
      }
     },
     "output_type": "display_data"
    }
   ],
   "source": [
    "op <- par(pty = \"s\", mfrow = c(1, 2))\n",
    "\n",
    "#Q-Q plot modelo original\n",
    "qqnorm(mod_hs_est$residuals)\n",
    "qqline(mod_hs_est$residuals)\n",
    "\n",
    "#Q-Q plo Box-Cox\n",
    "qqnorm(mod_hs_est_wls$residuals)\n",
    "qqline(mod_hs_est_wls$residuals)\n",
    "\n",
    "par(op)"
   ]
  },
  {
   "attachments": {},
   "cell_type": "markdown",
   "metadata": {},
   "source": [
    "### c) Cuadrados mínimos ponderados\n",
    "### Weighted Least Squares (WLS)"
   ]
  },
  {
   "cell_type": "code",
   "execution_count": 26,
   "metadata": {
    "vscode": {
     "languageId": "r"
    }
   },
   "outputs": [
    {
     "data": {
      "image/png": "[encoded data removed]",
      "text/plain": [
       "Plot with title \"Puntaje según Horas de Estudio\""
      ]
     },
     "metadata": {
      "image/png": {
       "height": 420,
       "width": 420
      }
     },
     "output_type": "display_data"
    }
   ],
   "source": [
    "ww <-1 / lm( abs(mod_hs_est$residuals) ~ mod_hs_est$fitted.values)$fitted.values^2\n",
    "www <-1 / ( abs(mod_hs_est$residuals) ) #^2\n",
    "\n",
    "plot( estudio$horas_estudio, estudio$puntaje, \n",
    "     xlab=\"Puntaje\",\n",
    "     ylab=\"Horas de Estudio\",\n",
    "     main=\"Puntaje según Horas de Estudio\")\n",
    "abline( mod_hs_est, col=\"darkviolet\", lwd=2 )\n",
    "\n",
    "linMod_ww<- lm( puntaje ~ horas_estudio, data = estudio, weights =ww )\n",
    "linMod_www<- lm( puntaje ~ horas_estudio, data = estudio, weights =www )\n",
    "abline( linMod_ww, col=\"hotpink\", lwd=2 )\n",
    "abline( linMod_www, col=\"gold\", lwd=2 )\n",
    "abline( mod_hs_est_wls, col=\"darkgreen\", lwd=2)"
   ]
  },
  {
   "cell_type": "code",
   "execution_count": 23,
   "metadata": {
    "vscode": {
     "languageId": "r"
    }
   },
   "outputs": [
    {
     "name": "stdout",
     "output_type": "stream",
     "text": [
      "\n",
      "========================================================================\n",
      "                                         Dependent variable:            \n",
      "                              ------------------------------------------\n",
      "                                               puntaje                  \n",
      "                                 (1)       (2)        (3)        (4)    \n",
      "------------------------------------------------------------------------\n",
      "horas_estudio                 5.709***   5.779***   7.925***   6.164*** \n",
      "                               (0.929)   (0.185)    (0.741)    (0.460)  \n",
      "                                                                        \n",
      "Constant                      39.831*** 39.750***  30.483***  38.364*** \n",
      "                               (4.901)   (0.777)    (2.320)    (2.052)  \n",
      "                                                                        \n",
      "------------------------------------------------------------------------\n",
      "Observations                     37         37         37         37    \n",
      "R2                              0.519     0.965      0.766      0.837   \n",
      "Adjusted R2                     0.505     0.964      0.759      0.832   \n",
      "Residual Std. Error (df = 35)  12.245     1.018      1.397      3.009   \n",
      "F Statistic (df = 1; 35)      37.788*** 972.345*** 114.474*** 179.424***\n",
      "========================================================================\n",
      "Note:                                        *p<0.1; **p<0.05; ***p<0.01\n"
     ]
    }
   ],
   "source": [
    "stargazer( mod_hs_est, mod_hs_est_wls, linMod_ww, linMod_www, type = \"text\")"
   ]
  },
  {
   "cell_type": "code",
   "execution_count": 56,
   "metadata": {
    "vscode": {
     "languageId": "r"
    }
   },
   "outputs": [
    {
     "data": {
      "image/png": "[encoded data removed]",
      "text/plain": [
       "plot without title"
      ]
     },
     "metadata": {
      "image/png": {
       "height": 420,
       "width": 420
      }
     },
     "output_type": "display_data"
    }
   ],
   "source": [
    "plot( rstudent(mod_hs_est) )\n",
    "abline( h=0, col=\"blue\", lwd=2 )"
   ]
  },
  {
   "cell_type": "code",
   "execution_count": 57,
   "metadata": {
    "vscode": {
     "languageId": "r"
    }
   },
   "outputs": [
    {
     "data": {
      "image/png": "[encoded data removed]",
      "text/plain": [
       "plot without title"
      ]
     },
     "metadata": {
      "image/png": {
       "height": 420,
       "width": 420
      }
     },
     "output_type": "display_data"
    }
   ],
   "source": [
    "plot( rstudent(mod_hs_est_wls) )\n",
    "abline( h=0, col=\"blue\", lwd=2 )"
   ]
  },
  {
   "cell_type": "code",
   "execution_count": 58,
   "metadata": {
    "vscode": {
     "languageId": "r"
    }
   },
   "outputs": [
    {
     "data": {
      "image/png": "[encoded data removed]",
      "text/plain": [
       "plot without title"
      ]
     },
     "metadata": {
      "image/png": {
       "height": 420,
       "width": 420
      }
     },
     "output_type": "display_data"
    }
   ],
   "source": [
    "plot( rstudent(linMod_ww) )\n",
    "abline( h=0, col=\"blue\", lwd=2 )"
   ]
  },
  {
   "cell_type": "code",
   "execution_count": 59,
   "metadata": {
    "vscode": {
     "languageId": "r"
    }
   },
   "outputs": [
    {
     "data": {
      "image/png": "[encoded data removed]",
      "text/plain": [
       "plot without title"
      ]
     },
     "metadata": {
      "image/png": {
       "height": 420,
       "width": 420
      }
     },
     "output_type": "display_data"
    }
   ],
   "source": [
    "plot( rstudent(linMod_www) )\n",
    "abline( h=0, col=\"blue\", lwd=2 )"
   ]
  },
  {
   "cell_type": "code",
   "execution_count": 86,
   "metadata": {
    "vscode": {
     "languageId": "r"
    }
   },
   "outputs": [
    {
     "name": "stderr",
     "output_type": "stream",
     "text": [
      "\u001b[1m\u001b[22m`geom_smooth()` using formula = 'y ~ x'\n"
     ]
    },
    {
     "data": {
      "image/png": "[encoded data removed]",
      "text/plain": [
       "plot without title"
      ]
     },
     "metadata": {
      "image/png": {
       "height": 420,
       "width": 420
      }
     },
     "output_type": "display_data"
    }
   ],
   "source": [
    "datos <- estudio\n",
    "datos$predicciones = predict(mod_hs_est)\n",
    "\n",
    "ggplot(datos, aes( x=horas_estudio, y=puntaje ) ) +\n",
    "  geom_smooth( method=\"lm\", se=FALSE, color=\"lightgrey\" ) +\n",
    "  geom_segment( aes( xend = horas_estudio, yend = predicciones ), col='red', lty='dashed') +\n",
    "  geom_point() +\n",
    "  geom_point( aes( y=predicciones), col='red' ) +\n",
    "  theme_light()"
   ]
  },
  {
   "cell_type": "code",
   "execution_count": 91,
   "metadata": {
    "vscode": {
     "languageId": "r"
    }
   },
   "outputs": [
    {
     "data": {
      "text/html": [
       "327.613803376674"
      ],
      "text/latex": [
       "327.613803376674"
      ],
      "text/markdown": [
       "327.613803376674"
      ],
      "text/plain": [
       "[1] 327.6138"
      ]
     },
     "metadata": {},
     "output_type": "display_data"
    }
   ],
   "source": [
    "sum( abs(mod_hs_est$residuals) )"
   ]
  },
  {
   "cell_type": "code",
   "execution_count": 85,
   "metadata": {
    "vscode": {
     "languageId": "r"
    }
   },
   "outputs": [
    {
     "name": "stderr",
     "output_type": "stream",
     "text": [
      "\u001b[1m\u001b[22m`geom_smooth()` using formula = 'y ~ x'\n"
     ]
    },
    {
     "data": {
      "image/png": "[encoded data removed]",
      "text/plain": [
       "plot without title"
      ]
     },
     "metadata": {
      "image/png": {
       "height": 420,
       "width": 420
      }
     },
     "output_type": "display_data"
    }
   ],
   "source": [
    "datos <- estudio\n",
    "datos$predicciones = predict( mod_hs_est_wls )\n",
    "\n",
    "ggplot( datos, aes( x=horas_estudio, y=puntaje ) ) +\n",
    "  geom_smooth( method=\"lm\", se=FALSE, color=\"lightgrey\" ) +\n",
    "  geom_segment( aes( xend = horas_estudio, yend = predicciones ), col='red', lty='dashed' ) +\n",
    "  geom_point() +\n",
    "  geom_point( aes( y=predicciones), col='red' ) +\n",
    "  theme_light()"
   ]
  },
  {
   "cell_type": "code",
   "execution_count": 90,
   "metadata": {
    "vscode": {
     "languageId": "r"
    }
   },
   "outputs": [
    {
     "data": {
      "text/html": [
       "325.232485633578"
      ],
      "text/latex": [
       "325.232485633578"
      ],
      "text/markdown": [
       "325.232485633578"
      ],
      "text/plain": [
       "[1] 325.2325"
      ]
     },
     "metadata": {},
     "output_type": "display_data"
    },
    {
     "data": {
      "text/html": [
       "-9.46718233291844"
      ],
      "text/latex": [
       "-9.46718233291844"
      ],
      "text/markdown": [
       "-9.46718233291844"
      ],
      "text/plain": [
       "[1] -9.467182"
      ]
     },
     "metadata": {},
     "output_type": "display_data"
    }
   ],
   "source": [
    "sum( abs( mod_hs_est_wls$residuals ) )"
   ]
  },
  {
   "cell_type": "code",
   "execution_count": 87,
   "metadata": {
    "vscode": {
     "languageId": "r"
    }
   },
   "outputs": [
    {
     "name": "stderr",
     "output_type": "stream",
     "text": [
      "\u001b[1m\u001b[22m`geom_smooth()` using formula = 'y ~ x'\n"
     ]
    },
    {
     "data": {
      "image/png": "[encoded data removed]",
      "text/plain": [
       "plot without title"
      ]
     },
     "metadata": {
      "image/png": {
       "height": 420,
       "width": 420
      }
     },
     "output_type": "display_data"
    }
   ],
   "source": [
    "datos <- estudio\n",
    "datos$predicciones = predict( linMod_ww )\n",
    "\n",
    "ggplot( datos, aes( x=horas_estudio, y=puntaje ) ) +\n",
    "  geom_smooth( method=\"lm\", se=FALSE, color=\"lightgrey\" ) +\n",
    "  geom_segment( aes( xend = horas_estudio, yend = predicciones ), col='red', lty='dashed' ) +\n",
    "  geom_point() +\n",
    "  geom_point( aes( y=predicciones), col='red' ) +\n",
    "  theme_light()"
   ]
  },
  {
   "cell_type": "code",
   "execution_count": 83,
   "metadata": {
    "vscode": {
     "languageId": "r"
    }
   },
   "outputs": [
    {
     "data": {
      "text/html": [
       "315.111193671993"
      ],
      "text/latex": [
       "315.111193671993"
      ],
      "text/markdown": [
       "315.111193671993"
      ],
      "text/plain": [
       "[1] 315.1112"
      ]
     },
     "metadata": {},
     "output_type": "display_data"
    }
   ],
   "source": [
    "sum( abs( linMod_ww$residuals ) )"
   ]
  },
  {
   "cell_type": "code",
   "execution_count": 88,
   "metadata": {
    "vscode": {
     "languageId": "r"
    }
   },
   "outputs": [
    {
     "name": "stderr",
     "output_type": "stream",
     "text": [
      "\u001b[1m\u001b[22m`geom_smooth()` using formula = 'y ~ x'\n"
     ]
    },
    {
     "data": {
      "image/png": "[encoded data removed]",
      "text/plain": [
       "plot without title"
      ]
     },
     "metadata": {
      "image/png": {
       "height": 420,
       "width": 420
      }
     },
     "output_type": "display_data"
    }
   ],
   "source": [
    "datos <- estudio\n",
    "datos$predicciones = predict( linMod_www )\n",
    "\n",
    "ggplot( datos, aes( x=horas_estudio, y=puntaje ) ) +\n",
    "  geom_smooth( method=\"lm\", se=FALSE, color=\"lightgrey\" ) +\n",
    "  geom_segment( aes( xend = horas_estudio, yend = predicciones ), col='red', lty='dashed' ) +\n",
    "  geom_point() +\n",
    "  geom_point( aes( y=predicciones), col='red' ) +\n",
    "  theme_light()"
   ]
  },
  {
   "cell_type": "code",
   "execution_count": 84,
   "metadata": {
    "vscode": {
     "languageId": "r"
    }
   },
   "outputs": [
    {
     "data": {
      "text/html": [
       "316.895757108841"
      ],
      "text/latex": [
       "316.895757108841"
      ],
      "text/markdown": [
       "316.895757108841"
      ],
      "text/plain": [
       "[1] 316.8958"
      ]
     },
     "metadata": {},
     "output_type": "display_data"
    }
   ],
   "source": [
    "sum( abs( linMod_www$residuals ) )"
   ]
  }
 ],
 "metadata": {
  "kernelspec": {
   "display_name": "R",
   "language": "R",
   "name": "ir"
  },
  "language_info": {
   "codemirror_mode": "r",
   "file_extension": ".r",
   "mimetype": "text/x-r-source",
   "name": "R",
   "pygments_lexer": "r",
   "version": "4.2.3"
  },
  "orig_nbformat": 4
 },
 "nbformat": 4,
 "nbformat_minor": 2
}
